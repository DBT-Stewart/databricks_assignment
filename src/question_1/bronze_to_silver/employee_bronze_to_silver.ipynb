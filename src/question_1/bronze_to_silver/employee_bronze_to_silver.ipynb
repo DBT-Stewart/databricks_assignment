{
 "cells": [
  {
   "cell_type": "code",
   "execution_count": 0,
   "metadata": {
    "application/vnd.databricks.v1+cell": {
     "cellMetadata": {
      "byteLimit": 2048000,
      "rowLimit": 10000
     },
     "inputWidgets": {},
     "nuid": "50209752-19dd-4b44-aea3-03a416d74ab0",
     "showTitle": false,
     "tableResultSettingsMap": {},
     "title": ""
    }
   },
   "outputs": [],
   "source": [
    "%run ../source_to_bronze/utils"
   ]
  },
  {
   "cell_type": "code",
   "execution_count": 0,
   "metadata": {
    "application/vnd.databricks.v1+cell": {
     "cellMetadata": {
      "byteLimit": 2048000,
      "rowLimit": 10000
     },
     "inputWidgets": {},
     "nuid": "236e9928-a305-4903-9f6d-03282218b068",
     "showTitle": false,
     "tableResultSettingsMap": {},
     "title": ""
    }
   },
   "outputs": [],
   "source": [
    "# MAGIC %run ../source_to_bronze/utils\n",
    "\n",
    "from pyspark.sql.types import StructType, StructField, StringType, IntegerType\n",
    "\n",
    "volume_path = \"/Volumes/my_catalog/my_schema/my_volume\"\n",
    "bronze_path = f\"{volume_path}/bronze\"\n",
    "silver_path = f\"{volume_path}/silver/employee_info/dim_employee\"\n",
    "\n",
    "# Define custom schema for employee\n",
    "employee_schema = StructType([\n",
    "    StructField(\"EmployeeID\", IntegerType()),\n",
    "    StructField(\"EmployeeName\", StringType()),\n",
    "    StructField(\"Department\", StringType()),\n",
    "    StructField(\"Country\", StringType()),\n",
    "    StructField(\"Salary\", IntegerType()),\n",
    "    StructField(\"Age\", IntegerType())\n",
    "])\n",
    "\n",
    "# Read using custom schema\n",
    "df = spark.read.schema(employee_schema).option(\"header\", True).csv(f\"{bronze_path}/employee\")\n",
    "\n",
    "# Transform\n",
    "df = rename_columns_to_snake_case(df)\n",
    "df = add_load_date(df)\n",
    "\n",
    "# Write to Silver (as Delta)\n",
    "df.write.format(\"delta\").mode(\"overwrite\").save(silver_path)\n",
    "\n",
    "\n"
   ]
  },
  {
   "cell_type": "code",
   "execution_count": 0,
   "metadata": {
    "application/vnd.databricks.v1+cell": {
     "cellMetadata": {
      "byteLimit": 2048000,
      "rowLimit": 10000
     },
     "inputWidgets": {},
     "nuid": "a6f9552f-8485-4b4c-9efd-4119c83966f7",
     "showTitle": false,
     "tableResultSettingsMap": {},
     "title": ""
    }
   },
   "outputs": [],
   "source": [
    "df = spark.read.format(\"delta\").load(silver_path)\n",
    "df.display(truncate=False)\n",
    "df.printSchema()\n"
   ]
  }
 ],
 "metadata": {
  "application/vnd.databricks.v1+notebook": {
   "computePreferences": null,
   "dashboards": [],
   "environmentMetadata": {
    "base_environment": "",
    "environment_version": "2"
   },
   "inputWidgetPreferences": null,
   "language": "python",
   "notebookMetadata": {
    "pythonIndentUnit": 4
   },
   "notebookName": "employee_bronze_to_silver",
   "widgets": {}
  },
  "language_info": {
   "name": "python"
  }
 },
 "nbformat": 4,
 "nbformat_minor": 0
}
