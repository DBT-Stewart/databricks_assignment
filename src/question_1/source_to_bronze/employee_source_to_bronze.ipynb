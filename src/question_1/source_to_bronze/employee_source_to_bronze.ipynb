{
 "cells": [
  {
   "cell_type": "code",
   "execution_count": 0,
   "metadata": {
    "application/vnd.databricks.v1+cell": {
     "cellMetadata": {
      "byteLimit": 2048000,
      "rowLimit": 10000
     },
     "inputWidgets": {},
     "nuid": "5c9d1df2-4335-4565-9817-bda82e23f9c5",
     "showTitle": true,
     "tableResultSettingsMap": {},
     "title": "Run Script from Utils Directory"
    }
   },
   "outputs": [],
   "source": [
    "%run \"./utils\""
   ]
  },
  {
   "cell_type": "code",
   "execution_count": 0,
   "metadata": {
    "application/vnd.databricks.v1+cell": {
     "cellMetadata": {
      "byteLimit": 2048000,
      "rowLimit": 10000
     },
     "inputWidgets": {},
     "nuid": "4bd4f8a3-77bb-40de-84f7-18ce6914f187",
     "showTitle": true,
     "tableResultSettingsMap": {},
     "title": "Processing CSV Files and Writing to Bronze Layer"
    }
   },
   "outputs": [],
   "source": [
    "from pyspark.sql import SparkSession\n",
    "\n",
    "spark = SparkSession.builder.getOrCreate()\n",
    "\n",
    "# Base volume path (make sure volume is created via Unity Catalog first)\n",
    "volume_base_path = \"/Volumes/my_catalog/my_schema/my_volume\"\n",
    "\n",
    "# Input file paths (inside volume)\n",
    "employee_csv_path = f\"{volume_base_path}/Employee-Q1.csv\"\n",
    "department_csv_path = f\"{volume_base_path}/Department-Q1.csv\"\n",
    "country_csv_path = f\"{volume_base_path}/Country-Q1.csv\"\n",
    "\n",
    "# Output paths (writing to bronze layer within volume)\n",
    "bronze_employee_path = f\"{volume_base_path}/bronze/employee\"\n",
    "bronze_department_path = f\"{volume_base_path}/bronze/department\"\n",
    "bronze_country_path = f\"{volume_base_path}/bronze/country\"\n",
    "\n",
    "# Read source CSVs from volume\n",
    "employee_df = spark.read.option(\"header\", True).csv(employee_csv_path)\n",
    "department_df = spark.read.option(\"header\", True).csv(department_csv_path)\n",
    "country_df = spark.read.option(\"header\", True).csv(country_csv_path)\n",
    "\n",
    "# Write to bronze layer inside the volume\n",
    "employee_df.write.mode(\"overwrite\").option(\"header\", True).csv(bronze_employee_path)\n",
    "department_df.write.mode(\"overwrite\").option(\"header\", True).csv(bronze_department_path)\n",
    "country_df.write.mode(\"overwrite\").option(\"header\", True).csv(bronze_country_path)\n"
   ]
  },
  {
   "cell_type": "code",
   "execution_count": 0,
   "metadata": {
    "application/vnd.databricks.v1+cell": {
     "cellMetadata": {
      "byteLimit": 2048000,
      "rowLimit": 10000
     },
     "inputWidgets": {},
     "nuid": "674a1c58-9a54-4faa-9fc1-fd41dc6f85f5",
     "showTitle": false,
     "tableResultSettingsMap": {},
     "title": ""
    }
   },
   "outputs": [],
   "source": [
    "import sys\n",
    "display({\"python_version\": sys.version})"
   ]
  },
  {
   "cell_type": "code",
   "execution_count": 0,
   "metadata": {
    "application/vnd.databricks.v1+cell": {
     "cellMetadata": {
      "byteLimit": 2048000,
      "rowLimit": 10000
     },
     "inputWidgets": {},
     "nuid": "301bcde7-c1b5-4dc4-9792-784bc350ef89",
     "showTitle": true,
     "tableResultSettingsMap": {},
     "title": "Save DataFrame to CSV and Reload for Manual Download"
    },
    "jupyter": {
     "outputs_hidden": true,
     "source_hidden": true
    }
   },
   "outputs": [],
   "source": [
    "# Example: Write a small dataframe back to CSV manually\n",
    "\n",
    "df = spark.read.option(\"header\", True).csv(\"/Volumes/my_catalog/my_schema/my_volume/Employee-Q1.csv\")  # Read from workspace\n",
    "df.show()\n",
    "# Collect data to driver\n",
    "data = df.collect()\n",
    "\n",
    "# Extract headers\n",
    "columns = df.columns\n",
    "\n",
    "# Use Python to write to a CSV\n",
    "with open(\"/Volumes/my_catalog/my_schema/my_volume/employee.csv\", \"w\") as f:\n",
    "    f.write(\",\".join(columns) + \"\\n\")\n",
    "    for row in data:\n",
    "        f.write(\",\".join([str(x) for x in row]) + \"\\n\")\n",
    "\n",
    "# Now download it manually from the UI\n",
    "\n",
    "df1 = spark.read.option(\"header\", True).csv(\"/Volumes/my_catalog/my_schema/my_volume/employee.csv\")  # Read from workspace\n",
    "df1.show()"
   ]
  },
  {
   "cell_type": "code",
   "execution_count": 0,
   "metadata": {
    "application/vnd.databricks.v1+cell": {
     "cellMetadata": {
      "byteLimit": 2048000,
      "rowLimit": 10000
     },
     "inputWidgets": {},
     "nuid": "a5b1ad54-bacd-40a5-b238-9897d7398f77",
     "showTitle": true,
     "tableResultSettingsMap": {},
     "title": "Loading Employee, Country, and Department Data from CSV"
    }
   },
   "outputs": [],
   "source": [
    "df1 = spark.read.option(\"header\", True).csv(\"/Volumes/my_catalog/my_schema/my_volume/bronze/employee/\")  # Read from workspace\n",
    "df1.show()\n",
    "\n",
    "df2 = spark.read.option(\"header\", True).csv(\"/Volumes/my_catalog/my_schema/my_volume/bronze/country/\")  # Read from workspace\n",
    "df2.show()\n",
    "\n",
    "df3 = spark.read.option(\"header\", True).csv(\"/Volumes/my_catalog/my_schema/my_volume/bronze/department/\")  # Read from workspace\n",
    "df3.show()"
   ]
  },
  {
   "cell_type": "code",
   "execution_count": 0,
   "metadata": {
    "application/vnd.databricks.v1+cell": {
     "cellMetadata": {},
     "inputWidgets": {},
     "nuid": "b66ac6f2-8ad8-423d-b97a-c9165b64515b",
     "showTitle": false,
     "tableResultSettingsMap": {},
     "title": ""
    }
   },
   "outputs": [],
   "source": []
  }
 ],
 "metadata": {
  "application/vnd.databricks.v1+notebook": {
   "computePreferences": null,
   "dashboards": [],
   "environmentMetadata": {
    "base_environment": "",
    "environment_version": "2"
   },
   "inputWidgetPreferences": null,
   "language": "python",
   "notebookMetadata": {
    "pythonIndentUnit": 4
   },
   "notebookName": "employee_source_to_bronze",
   "widgets": {}
  },
  "language_info": {
   "name": "python"
  }
 },
 "nbformat": 4,
 "nbformat_minor": 0
}
